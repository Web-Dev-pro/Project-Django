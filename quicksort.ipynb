{
 "cells": [
  {
   "cell_type": "code",
   "execution_count": 19,
   "id": "19ab4a3f-be26-4be3-bf38-441fa7a7335a",
   "metadata": {},
   "outputs": [
    {
     "data": {
      "text/plain": [
       "5"
      ]
     },
     "execution_count": 19,
     "metadata": {},
     "output_type": "execute_result"
    }
   ],
   "source": [
    "# recursive function\n",
    "def recursive_sum_number(arr):\n",
    "    if arr == []:\n",
    "        return 0\n",
    "    return arr[0] + sum(arr[1:])\n",
    "\n",
    "def count_list(list):\n",
    "    if list == []:\n",
    "        return 0\n",
    "    return 1 + count_list(list[1:])\n",
    "    \n",
    "count_list([1, 2, 4, 9, 8])"
   ]
  },
  {
   "cell_type": "code",
   "execution_count": 29,
   "id": "2de174de-62ce-4a41-bf4b-a47a62911e71",
   "metadata": {},
   "outputs": [
    {
     "data": {
      "text/plain": [
       "[1, 3, 5, 6, 9]"
      ]
     },
     "execution_count": 29,
     "metadata": {},
     "output_type": "execute_result"
    }
   ],
   "source": [
    "# quicksor with D&C\n",
    "def quicksort(arr):\n",
    "    if len(arr) <= 1:\n",
    "        return arr\n",
    "    else:\n",
    "        pivot = arr[0]\n",
    "        less_one = [x for x in arr[1:] if x <= pivot]\n",
    "        greater_one = [x for x in arr[1:] if x > pivot]\n",
    "        return quicksort(less_one) + [pivot] + quicksort(greater_one)\n",
    "quicksort([3, 9, 1, 6 ,5])"
   ]
  },
  {
   "cell_type": "code",
   "execution_count": 1,
   "id": "9ba912fd-2f99-4fab-90f2-919c1060f1ab",
   "metadata": {},
   "outputs": [
    {
     "name": "stdout",
     "output_type": "stream",
     "text": [
      "sorted array is [1, 2, 4, 5, 9, 10]\n"
     ]
    }
   ],
   "source": [
    "def tech(l):\n",
    "    if len(l) < 1:\n",
    "        return l\n",
    "    else:\n",
    "        pivot = l[0]\n",
    "        left = [j for j in l[1:] if j < pivot]\n",
    "        right = [j for j in l[1:] if j >= pivot]\n",
    "        return tech(left) + [pivot] + tech(right)\n",
    "        \n",
    "arr = [9, 10, 2, 1, 5, 4]\n",
    "print(f\"sorted array is {tech(arr)}\")\n",
    "\n",
    "# left -- 2, 1, 5, 4\n",
    "# right -- 10\n",
    "# sum -- 2, 1, 5, 4 + [9] + 10"
   ]
  },
  {
   "cell_type": "code",
   "execution_count": 10,
   "id": "5b195978-4bc6-4eec-9640-4c5bba2df291",
   "metadata": {},
   "outputs": [
    {
     "data": {
      "text/plain": [
       "[1, 4, 5, 6, 9]"
      ]
     },
     "execution_count": 10,
     "metadata": {},
     "output_type": "execute_result"
    }
   ],
   "source": [
    "def quicksort(stack):\n",
    "    if len(stack) < 1:\n",
    "        return stack\n",
    "    else:\n",
    "        # find pivot first\n",
    "        pivot = stack[len(stack) // 2]\n",
    "        left = [i for i in stack if i < pivot]\n",
    "        middle = [i for i in stack if i == pivot]\n",
    "        right = [i for i in stack if i > pivot]\n",
    "        return quicksort(left) + middle + quicksort(right)\n",
    "\n",
    "arr = [4, 9, 5, 1, 6]\n",
    "quicksort(arr)"
   ]
  },
  {
   "cell_type": "code",
   "execution_count": 11,
   "id": "3db5591c-e9d6-4fcf-b8e5-0f6519c83e99",
   "metadata": {},
   "outputs": [
    {
     "data": {
      "text/plain": [
       "[1, 4, 5, 6, 7, 8, 9]"
      ]
     },
     "execution_count": 11,
     "metadata": {},
     "output_type": "execute_result"
    }
   ],
   "source": [
    "def second_example(arr):\n",
    "    if len(arr) < 1:\n",
    "        return arr\n",
    "    else:\n",
    "        pivot = arr[len(arr) // 2]\n",
    "        left = [x for x in arr if x < pivot]\n",
    "        middle = [x for x in arr if x == pivot]\n",
    "        right = [x for x in arr if x > pivot]\n",
    "        return second_example(left) + middle + second_example(right)\n",
    "\n",
    "numbers = [9, 6, 7, 1, 8, 4, 5]\n",
    "second_example(numbers)"
   ]
  }
 ],
 "metadata": {
  "kernelspec": {
   "display_name": "Python 3 (ipykernel)",
   "language": "python",
   "name": "python3"
  },
  "language_info": {
   "codemirror_mode": {
    "name": "ipython",
    "version": 3
   },
   "file_extension": ".py",
   "mimetype": "text/x-python",
   "name": "python",
   "nbconvert_exporter": "python",
   "pygments_lexer": "ipython3",
   "version": "3.10.12"
  }
 },
 "nbformat": 4,
 "nbformat_minor": 5
}
